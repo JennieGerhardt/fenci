{
 "cells": [
  {
   "cell_type": "code",
   "execution_count": 2,
   "metadata": {},
   "outputs": [
    {
     "name": "stderr",
     "output_type": "stream",
     "text": [
      "C:\\Users\\nzn\\Anaconda3\\lib\\site-packages\\h5py\\__init__.py:36: FutureWarning: Conversion of the second argument of issubdtype from `float` to `np.floating` is deprecated. In future, it will be treated as `np.float64 == np.dtype(float).type`.\n",
      "  from ._conv import register_converters as _register_converters\n"
     ]
    },
    {
     "name": "stdout",
     "output_type": "stream",
     "text": [
      "1.12.0\n"
     ]
    }
   ],
   "source": [
    "#导入包\n",
    "import tensorflow as tf\n",
    "from tensorflow import keras\n",
    "\n",
    "import numpy as np\n",
    "\n",
    "print(tf.__version__)"
   ]
  },
  {
   "cell_type": "markdown",
   "metadata": {},
   "source": [
    "# 英文数据集"
   ]
  },
  {
   "cell_type": "code",
   "execution_count": 5,
   "metadata": {},
   "outputs": [],
   "source": [
    "#下载数据集\n",
    "imdb = keras.datasets.imdb\n",
    "(train_data, train_labels), (test_data, test_labels) = imdb.load_data('imdb.npz',num_words=15000)\n",
    "#如果下载失败，可以将npz文件放到C:\\Users\\nzn\\.keras\\datasets下"
   ]
  },
  {
   "cell_type": "code",
   "execution_count": 6,
   "metadata": {},
   "outputs": [
    {
     "name": "stdout",
     "output_type": "stream",
     "text": [
      "Downloading data from https://storage.googleapis.com/tensorflow/tf-keras-datasets/imdb_word_index.json\n",
      "1646592/1641221 [==============================] - 1s 0us/step\n"
     ]
    }
   ],
   "source": [
    "#以整数形式存储，转为文字\n",
    "# A dictionary mapping words to an integer index\n",
    "word_index = imdb.get_word_index()\n",
    "\n",
    "# The first indices are reserved\n",
    "word_index = {k:(v+3) for k,v in word_index.items()} \n",
    "word_index[\"<PAD>\"] = 0\n",
    "word_index[\"<START>\"] = 1\n",
    "word_index[\"<UNK>\"] = 2  # unknown\n",
    "word_index[\"<UNUSED>\"] = 3\n",
    "\n",
    "reverse_word_index = dict([(value, key) for (key, value) in word_index.items()])\n",
    "\n",
    "def decode_review(text):\n",
    "    return ' '.join([reverse_word_index.get(i, '?') for i in text])"
   ]
  },
  {
   "cell_type": "code",
   "execution_count": 7,
   "metadata": {},
   "outputs": [
    {
     "data": {
      "text/plain": [
       "\"<START> shown in australia as <UNK> this incredibly bad movie is so bad that you become <UNK> and have to watch it to the end just to see if it could get any worse and it does the storyline is so predictable it seems written by a high school <UNK> class the sets are pathetic but marginally better than the <UNK> and the acting is wooden br br the infant <UNK> seems to have been stolen from the props <UNK> of <UNK> <UNK> there didn't seem to be a single original idea in the whole movie br br i found this movie to be so bad that i laughed most of the way through br br malcolm mcdowell should hang his head in shame he obviously needed the money\""
      ]
     },
     "execution_count": 7,
     "metadata": {},
     "output_type": "execute_result"
    }
   ],
   "source": [
    "decode_review(train_data[20])"
   ]
  },
  {
   "cell_type": "markdown",
   "metadata": {},
   "source": [
    "# Prepare the data"
   ]
  },
  {
   "cell_type": "markdown",
   "metadata": {},
   "source": [
    "### 评论 - 整数数组 - 必须在输入神经网络之前转换为张量。 这种转换可以通过以下几种方式完成：\n",
    "\n",
    "对数组进行单热编码，将其转换为0和1的向量。 例如，序列[3,5]将成为10,000维向量，除了索引3和5（它们是1）之外全部为零。 然后，将其作为我们网络中的第一层 - 一个可以处理浮点矢量数据的Dense层。 但是，这种方法是内存密集型的，需要num_words * num_reviews大小矩阵。\n",
    "\n",
    "或者，我们可以填充数组，使它们都具有相同的长度，然后创建一个整数张数形状num_examples * max_length。 我们可以使用能够将此形状作为我们网络中第一层的嵌入层。\n",
    "\n",
    "在本教程中，我们将使用第二种方法。\n",
    "\n",
    "由于电影评论的长度必须相同，我们将使用pad_sequences函数来标准化长度：\n"
   ]
  },
  {
   "cell_type": "code",
   "execution_count": 11,
   "metadata": {},
   "outputs": [],
   "source": [
    "train_data = keras.preprocessing.sequence.pad_sequences(train_data,\n",
    "                                                        value=word_index[\"<PAD>\"],\n",
    "                                                        padding='post',\n",
    "                                                        maxlen=256)\n",
    "\n",
    "test_data = keras.preprocessing.sequence.pad_sequences(test_data,\n",
    "                                                       value=word_index[\"<PAD>\"],\n",
    "                                                       padding='post',\n",
    "                                                       maxlen=256)"
   ]
  },
  {
   "cell_type": "markdown",
   "metadata": {},
   "source": [
    "### 填充序列pad_sequences\n",
    "keras.preprocessing.sequence.pad_sequences(sequences, maxlen=None, dtype='int32',\n",
    "    padding='pre', truncating='pre', value=0.)\n",
    "将长为nb_samples的序列（标量序列）转化为形如(nb_samples,nb_timesteps)2D numpy array。如果提供了参数maxlen，nb_timesteps=maxlen，否则其值为最长序列的长度。其他短于该长度的序列都会在后部填充0以达到该长度。长于nb_timesteps的序列将会被截断，以使其匹配目标长度。padding和截断发生的位置分别取决于padding和truncating.\n",
    "\n",
    "参数\n",
    "sequences：浮点数或整数构成的两层嵌套列表\n",
    "\n",
    "maxlen：None或整数，为序列的最大长度。大于此长度的序列将被截短，小于此长度的序列将在后部填0.\n",
    "\n",
    "dtype：返回的numpy array的数据类型\n",
    "\n",
    "padding：‘pre’或‘post’，确定当需要补0时，在序列的起始还是结尾补\n",
    "\n",
    "truncating：‘pre’或‘post’，确定当需要截断序列时，从起始还是结尾截断\n",
    "\n",
    "value：浮点数，此值将在填充时代替默认的填充值0\n",
    "\n",
    "返回值\n",
    "返回形如(nb_samples,nb_timesteps)的2D张量"
   ]
  },
  {
   "cell_type": "code",
   "execution_count": 12,
   "metadata": {},
   "outputs": [
    {
     "data": {
      "text/plain": [
       "(256, 256)"
      ]
     },
     "execution_count": 12,
     "metadata": {},
     "output_type": "execute_result"
    }
   ],
   "source": [
    "len(train_data[0]), len(train_data[1])"
   ]
  },
  {
   "cell_type": "code",
   "execution_count": 13,
   "metadata": {},
   "outputs": [
    {
     "name": "stdout",
     "output_type": "stream",
     "text": [
      "[    1    14    22    16    43   530   973  1622  1385    65   458  4468\n",
      "    66  3941     4   173    36   256     5    25   100    43   838   112\n",
      "    50   670     2     9    35   480   284     5   150     4   172   112\n",
      "   167     2   336   385    39     4   172  4536  1111    17   546    38\n",
      "    13   447     4   192    50    16     6   147  2025    19    14    22\n",
      "     4  1920  4613   469     4    22    71    87    12    16    43   530\n",
      "    38    76    15    13  1247     4    22    17   515    17    12    16\n",
      "   626    18     2     5    62   386    12     8   316     8   106     5\n",
      "     4  2223  5244    16   480    66  3785    33     4   130    12    16\n",
      "    38   619     5    25   124    51    36   135    48    25  1415    33\n",
      "     6    22    12   215    28    77    52     5    14   407    16    82\n",
      " 10311     8     4   107   117  5952    15   256     4     2     7  3766\n",
      "     5   723    36    71    43   530   476    26   400   317    46     7\n",
      "     4 12118  1029    13   104    88     4   381    15   297    98    32\n",
      "  2071    56    26   141     6   194  7486    18     4   226    22    21\n",
      "   134   476    26   480     5   144    30  5535    18    51    36    28\n",
      "   224    92    25   104     4   226    65    16    38  1334    88    12\n",
      "    16   283     5    16  4472   113   103    32    15    16  5345    19\n",
      "   178    32     0     0     0     0     0     0     0     0     0     0\n",
      "     0     0     0     0     0     0     0     0     0     0     0     0\n",
      "     0     0     0     0     0     0     0     0     0     0     0     0\n",
      "     0     0     0     0]\n"
     ]
    }
   ],
   "source": [
    "print(train_data[0])"
   ]
  },
  {
   "cell_type": "markdown",
   "metadata": {},
   "source": [
    "# Build the model"
   ]
  },
  {
   "cell_type": "code",
   "execution_count": 14,
   "metadata": {},
   "outputs": [
    {
     "name": "stdout",
     "output_type": "stream",
     "text": [
      "_________________________________________________________________\n",
      "Layer (type)                 Output Shape              Param #   \n",
      "=================================================================\n",
      "embedding (Embedding)        (None, None, 16)          240000    \n",
      "_________________________________________________________________\n",
      "global_average_pooling1d (Gl (None, 16)                0         \n",
      "_________________________________________________________________\n",
      "dense (Dense)                (None, 16)                272       \n",
      "_________________________________________________________________\n",
      "dropout (Dropout)            (None, 16)                0         \n",
      "_________________________________________________________________\n",
      "dense_1 (Dense)              (None, 1)                 17        \n",
      "=================================================================\n",
      "Total params: 240,289\n",
      "Trainable params: 240,289\n",
      "Non-trainable params: 0\n",
      "_________________________________________________________________\n"
     ]
    }
   ],
   "source": [
    "# input shape is the vocabulary count used for the movie reviews (10,000 words)\n",
    "vocab_size = 15000\n",
    "\n",
    "model = keras.Sequential()\n",
    "model.add(keras.layers.Embedding(vocab_size, 16))\n",
    "model.add(keras.layers.GlobalAveragePooling1D())\n",
    "#model.add(keras.layers.GlobalMaxPooling1D())\n",
    "model.add(keras.layers.Dense(16, activation=tf.nn.relu))\n",
    "model.add(keras.layers.Dropout(0.5))\n",
    "model.add(keras.layers.Dense(1, activation=tf.nn.sigmoid))\n",
    "\n",
    "model.summary()"
   ]
  },
  {
   "cell_type": "markdown",
   "metadata": {},
   "source": [
    "\n",
    "第一层是嵌入层。 该层采用整数编码的词汇表，并查找每个词索引的嵌入向量。 这些向量是作为模型训练学习的。 向量为输出数组添加维度。 生成的维度为:(批处理，序列，嵌入）。\n",
    "接下来，GlobalAveragePooling1D层通过对序列维度求平均，为每个示例返回固定长度的输出向量。 这允许模型以最简单的方式处理可变长度的输入。\n",
    "该固定长度输出矢量通过具有16个隐藏单元的完全连接（密集）层进行管道传输。\n",
    "最后一层与单个输出节点密集连接。 使用sigmoid激活函数，此值是介于0和1之间的浮点数，表示概率或置信度。"
   ]
  },
  {
   "cell_type": "code",
   "execution_count": 15,
   "metadata": {},
   "outputs": [],
   "source": [
    "model.compile(optimizer=tf.train.AdamOptimizer(),\n",
    "              loss='binary_crossentropy',\n",
    "              metrics=['accuracy'])"
   ]
  },
  {
   "cell_type": "code",
   "execution_count": 16,
   "metadata": {},
   "outputs": [],
   "source": [
    "#验证集\n",
    "x_val = train_data[:10000]\n",
    "partial_x_train = train_data[10000:]\n",
    "\n",
    "y_val = train_labels[:10000]\n",
    "partial_y_train = train_labels[10000:]"
   ]
  },
  {
   "cell_type": "markdown",
   "metadata": {},
   "source": [
    "# Train the model"
   ]
  },
  {
   "cell_type": "code",
   "execution_count": 17,
   "metadata": {},
   "outputs": [
    {
     "name": "stderr",
     "output_type": "stream",
     "text": [
      "Using TensorFlow backend.\n"
     ]
    }
   ],
   "source": [
    "#回调函数。每一Epochs都进行F1计算\n",
    "import numpy as np\n",
    "from keras.callbacks import Callback\n",
    "from keras.engine.training import Model\n",
    "from sklearn.metrics import confusion_matrix, f1_score, precision_score, recall_score\n",
    "class Metrics(Callback):\n",
    "    def on_train_begin(self, logs={}):\n",
    "        self.val_f1s = []\n",
    "        self.val_recalls = []\n",
    "        self.val_precisions = []\n",
    " \n",
    "    def on_epoch_end(self, epoch, logs={}):\n",
    "        val_predict = (np.asarray(self.model.predict(self.validation_data[0]))).round()\n",
    "        val_targ = self.validation_data[1]\n",
    "        _val_f1 = f1_score(val_targ, val_predict,average='weighted')\n",
    "        _val_recall = recall_score(val_targ, val_predict,average='weighted')\n",
    "        _val_precision = precision_score(val_targ, val_predict,average='weighted')\n",
    "        self.val_f1s.append(_val_f1)\n",
    "        self.val_recalls.append(_val_recall)\n",
    "        self.val_precisions.append(_val_precision)\n",
    "        print( ' — val_f1: %f — val_precision: %f — val_recall %f' %(_val_f1, _val_precision, _val_recall))\n",
    "        return\n",
    "    \n",
    "metrics = Metrics()"
   ]
  },
  {
   "cell_type": "code",
   "execution_count": 18,
   "metadata": {},
   "outputs": [
    {
     "name": "stdout",
     "output_type": "stream",
     "text": [
      "Train on 15000 samples, validate on 10000 samples\n",
      "Epoch 1/90\n",
      "14848/15000 [============================>.] - ETA: 0s - loss: 0.6926 - acc: 0.5233 — val_f1: 0.399020 — val_precision: 0.734709 — val_recall 0.527600\n",
      "15000/15000 [==============================] - 9s 617us/step - loss: 0.6926 - acc: 0.5233 - val_loss: 0.6917 - val_acc: 0.5276\n",
      "Epoch 2/90\n",
      "14848/15000 [============================>.] - ETA: 0s - loss: 0.6901 - acc: 0.5974 — val_f1: 0.716138 — val_precision: 0.756551 — val_recall 0.724300\n",
      "15000/15000 [==============================] - 4s 275us/step - loss: 0.6901 - acc: 0.5981 - val_loss: 0.6883 - val_acc: 0.7243\n",
      "Epoch 3/90\n",
      "14848/15000 [============================>.] - ETA: 0s - loss: 0.6843 - acc: 0.6660 — val_f1: 0.731220 — val_precision: 0.753203 — val_recall 0.735400\n",
      "15000/15000 [==============================] - 2s 149us/step - loss: 0.6842 - acc: 0.6670 - val_loss: 0.6799 - val_acc: 0.7354\n",
      "Epoch 4/90\n",
      "14848/15000 [============================>.] - ETA: 0s - loss: 0.6709 - acc: 0.7090 — val_f1: 0.768508 — val_precision: 0.779878 — val_recall 0.770200\n",
      "15000/15000 [==============================] - 2s 149us/step - loss: 0.6708 - acc: 0.7093 - val_loss: 0.6637 - val_acc: 0.7702\n",
      "Epoch 5/90\n",
      "14848/15000 [============================>.] - ETA: 0s - loss: 0.6494 - acc: 0.7359 — val_f1: 0.790573 — val_precision: 0.791048 — val_recall 0.790600\n",
      "15000/15000 [==============================] - 3s 168us/step - loss: 0.6493 - acc: 0.7359 - val_loss: 0.6384 - val_acc: 0.7906\n",
      "Epoch 6/90\n",
      "14848/15000 [============================>.] - ETA: 0s - loss: 0.6189 - acc: 0.7542 — val_f1: 0.800910 — val_precision: 0.803633 — val_recall 0.801400\n",
      "15000/15000 [==============================] - 2s 147us/step - loss: 0.6188 - acc: 0.7543 - val_loss: 0.6034 - val_acc: 0.8014\n",
      "Epoch 7/90\n",
      "14848/15000 [============================>.] - ETA: 0s - loss: 0.5768 - acc: 0.7832 — val_f1: 0.819682 — val_precision: 0.819722 — val_recall 0.819700\n",
      "15000/15000 [==============================] - 2s 162us/step - loss: 0.5766 - acc: 0.7835 - val_loss: 0.5596 - val_acc: 0.8197\n",
      "Epoch 8/90\n",
      "14848/15000 [============================>.] - ETA: 0s - loss: 0.5328 - acc: 0.7969 — val_f1: 0.833287 — val_precision: 0.833315 — val_recall 0.833300\n",
      "15000/15000 [==============================] - 2s 147us/step - loss: 0.5327 - acc: 0.7967 - val_loss: 0.5152 - val_acc: 0.8333\n",
      "Epoch 9/90\n",
      "14848/15000 [============================>.] - ETA: 0s - loss: 0.4887 - acc: 0.8242 — val_f1: 0.842623 — val_precision: 0.843062 — val_recall 0.842700\n",
      "15000/15000 [==============================] - 2s 146us/step - loss: 0.4886 - acc: 0.8239 - val_loss: 0.4743 - val_acc: 0.8427\n",
      "Epoch 10/90\n",
      "14848/15000 [============================>.] - ETA: 0s - loss: 0.4503 - acc: 0.8367 — val_f1: 0.851087 — val_precision: 0.851123 — val_recall 0.851100\n",
      "15000/15000 [==============================] - 3s 167us/step - loss: 0.4506 - acc: 0.8362 - val_loss: 0.4386 - val_acc: 0.8511\n",
      "Epoch 11/90\n",
      "14848/15000 [============================>.] - ETA: 0s - loss: 0.4198 - acc: 0.8464 — val_f1: 0.857324 — val_precision: 0.858693 — val_recall 0.857400\n",
      "15000/15000 [==============================] - 2s 156us/step - loss: 0.4202 - acc: 0.8459 - val_loss: 0.4110 - val_acc: 0.8574\n",
      "Epoch 12/90\n",
      "14848/15000 [============================>.] - ETA: 0s - loss: 0.3896 - acc: 0.8600 — val_f1: 0.865498 — val_precision: 0.865499 — val_recall 0.865500\n",
      "15000/15000 [==============================] - 3s 218us/step - loss: 0.3897 - acc: 0.8599 - val_loss: 0.3844 - val_acc: 0.8655\n",
      "Epoch 13/90\n",
      "14848/15000 [============================>.] - ETA: 0s - loss: 0.3592 - acc: 0.8748 — val_f1: 0.870997 — val_precision: 0.870999 — val_recall 0.871000\n",
      "15000/15000 [==============================] - 2s 161us/step - loss: 0.3595 - acc: 0.8749 - val_loss: 0.3625 - val_acc: 0.8710\n",
      "Epoch 14/90\n",
      "14848/15000 [============================>.] - ETA: 0s - loss: 0.3370 - acc: 0.8832 — val_f1: 0.873500 — val_precision: 0.873500 — val_recall 0.873500\n",
      "15000/15000 [==============================] - 3s 184us/step - loss: 0.3369 - acc: 0.8831 - val_loss: 0.3450 - val_acc: 0.8735\n",
      "Epoch 15/90\n",
      "14848/15000 [============================>.] - ETA: 0s - loss: 0.3150 - acc: 0.8903- ETA: 0s - loss: 0.3148 - acc: 0.89 — val_f1: 0.876184 — val_precision: 0.876263 — val_recall 0.876200\n",
      "15000/15000 [==============================] - 3s 186us/step - loss: 0.3153 - acc: 0.8902 - val_loss: 0.3311 - val_acc: 0.8762\n",
      "Epoch 16/90\n",
      "14848/15000 [============================>.] - ETA: 0s - loss: 0.3008 - acc: 0.8945 — val_f1: 0.878861 — val_precision: 0.879142 — val_recall 0.878900\n",
      "15000/15000 [==============================] - 2s 159us/step - loss: 0.3009 - acc: 0.8945 - val_loss: 0.3205 - val_acc: 0.8789\n",
      "Epoch 17/90\n",
      "14848/15000 [============================>.] - ETA: 0s - loss: 0.2819 - acc: 0.9017 — val_f1: 0.881596 — val_precision: 0.881605 — val_recall 0.881600\n",
      "15000/15000 [==============================] - 3s 190us/step - loss: 0.2820 - acc: 0.9020 - val_loss: 0.3109 - val_acc: 0.8816\n",
      "Epoch 18/90\n",
      "14848/15000 [============================>.] - ETA: 0s - loss: 0.2662 - acc: 0.9111 — val_f1: 0.882865 — val_precision: 0.883116 — val_recall 0.882900\n",
      "15000/15000 [==============================] - 2s 158us/step - loss: 0.2661 - acc: 0.9112 - val_loss: 0.3037 - val_acc: 0.8829\n",
      "Epoch 19/90\n",
      "14848/15000 [============================>.] - ETA: 0s - loss: 0.2511 - acc: 0.9165 — val_f1: 0.883482 — val_precision: 0.883585 — val_recall 0.883500\n",
      "15000/15000 [==============================] - 3s 178us/step - loss: 0.2524 - acc: 0.9160 - val_loss: 0.2973 - val_acc: 0.8835\n",
      "Epoch 20/90\n",
      "14848/15000 [============================>.] - ETA: 0s - loss: 0.2413 - acc: 0.9182 — val_f1: 0.883792 — val_precision: 0.883819 — val_recall 0.883800\n",
      "15000/15000 [==============================] - 2s 160us/step - loss: 0.2411 - acc: 0.9181 - val_loss: 0.2924 - val_acc: 0.8838\n",
      "Epoch 21/90\n",
      "14848/15000 [============================>.] - ETA: 0s - loss: 0.2288 - acc: 0.9229 — val_f1: 0.885100 — val_precision: 0.885101 — val_recall 0.885100\n",
      "15000/15000 [==============================] - 3s 170us/step - loss: 0.2296 - acc: 0.9224 - val_loss: 0.2887 - val_acc: 0.8851\n",
      "Epoch 22/90\n",
      "14848/15000 [============================>.] - ETA: 0s - loss: 0.2196 - acc: 0.9271 — val_f1: 0.884328 — val_precision: 0.884979 — val_recall 0.884400\n",
      "15000/15000 [==============================] - 3s 169us/step - loss: 0.2190 - acc: 0.9275 - val_loss: 0.2871 - val_acc: 0.8844\n",
      "Epoch 23/90\n",
      "14848/15000 [============================>.] - ETA: 0s - loss: 0.2104 - acc: 0.9335 — val_f1: 0.884894 — val_precision: 0.884912 — val_recall 0.884900\n",
      "15000/15000 [==============================] - 2s 156us/step - loss: 0.2103 - acc: 0.9337 - val_loss: 0.2835 - val_acc: 0.8849\n",
      "Epoch 24/90\n",
      "14848/15000 [============================>.] - ETA: 0s - loss: 0.1986 - acc: 0.9367 — val_f1: 0.886799 — val_precision: 0.886799 — val_recall 0.886800\n",
      "15000/15000 [==============================] - 3s 182us/step - loss: 0.1985 - acc: 0.9367 - val_loss: 0.2810 - val_acc: 0.8868\n",
      "Epoch 25/90\n",
      "14848/15000 [============================>.] - ETA: 0s - loss: 0.1949 - acc: 0.9386 — val_f1: 0.887384 — val_precision: 0.887476 — val_recall 0.887400\n",
      "15000/15000 [==============================] - 2s 158us/step - loss: 0.1947 - acc: 0.9385 - val_loss: 0.2798 - val_acc: 0.8874\n",
      "Epoch 26/90\n",
      "14848/15000 [============================>.] - ETA: 0s - loss: 0.1827 - acc: 0.9427 — val_f1: 0.887996 — val_precision: 0.888006 — val_recall 0.888000\n",
      "15000/15000 [==============================] - 3s 180us/step - loss: 0.1825 - acc: 0.9427 - val_loss: 0.2794 - val_acc: 0.8880\n",
      "Epoch 27/90\n",
      "14848/15000 [============================>.] - ETA: 0s - loss: 0.1764 - acc: 0.9462 — val_f1: 0.887992 — val_precision: 0.888022 — val_recall 0.888000\n",
      "15000/15000 [==============================] - 2s 158us/step - loss: 0.1763 - acc: 0.9463 - val_loss: 0.2789 - val_acc: 0.8880\n",
      "Epoch 28/90\n",
      "14848/15000 [============================>.] - ETA: 0s - loss: 0.1664 - acc: 0.9515 — val_f1: 0.888188 — val_precision: 0.888245 — val_recall 0.888200\n",
      "15000/15000 [==============================] - 3s 172us/step - loss: 0.1663 - acc: 0.9513 - val_loss: 0.2786 - val_acc: 0.8882\n"
     ]
    },
    {
     "name": "stdout",
     "output_type": "stream",
     "text": [
      "Epoch 29/90\n",
      "14848/15000 [============================>.] - ETA: 0s - loss: 0.1629 - acc: 0.9518 — val_f1: 0.888494 — val_precision: 0.888511 — val_recall 0.888500\n",
      "15000/15000 [==============================] - 2s 149us/step - loss: 0.1629 - acc: 0.9519 - val_loss: 0.2790 - val_acc: 0.8885\n",
      "Epoch 30/90\n",
      "14848/15000 [============================>.] - ETA: 0s - loss: 0.1581 - acc: 0.9529 — val_f1: 0.889079 — val_precision: 0.889213 — val_recall 0.889100\n",
      "15000/15000 [==============================] - 2s 148us/step - loss: 0.1579 - acc: 0.9531 - val_loss: 0.2801 - val_acc: 0.8891\n",
      "Epoch 31/90\n",
      "14848/15000 [============================>.] - ETA: 0s - loss: 0.1497 - acc: 0.9569 — val_f1: 0.889496 — val_precision: 0.889505 — val_recall 0.889500\n",
      "15000/15000 [==============================] - 3s 176us/step - loss: 0.1495 - acc: 0.9571 - val_loss: 0.2811 - val_acc: 0.8895\n",
      "Epoch 32/90\n",
      "14848/15000 [============================>.] - ETA: 0s - loss: 0.1442 - acc: 0.9603 — val_f1: 0.889089 — val_precision: 0.889140 — val_recall 0.889100\n",
      "15000/15000 [==============================] - 2s 143us/step - loss: 0.1443 - acc: 0.9601 - val_loss: 0.2830 - val_acc: 0.8891\n",
      "Epoch 33/90\n",
      "14848/15000 [============================>.] - ETA: 0s - loss: 0.1385 - acc: 0.9606 — val_f1: 0.888787 — val_precision: 0.888856 — val_recall 0.888800\n",
      "15000/15000 [==============================] - 2s 162us/step - loss: 0.1381 - acc: 0.9607 - val_loss: 0.2843 - val_acc: 0.8888\n",
      "Epoch 34/90\n",
      "14848/15000 [============================>.] - ETA: 0s - loss: 0.1319 - acc: 0.9654 — val_f1: 0.888481 — val_precision: 0.888597 — val_recall 0.888500\n",
      "15000/15000 [==============================] - 2s 152us/step - loss: 0.1319 - acc: 0.9655 - val_loss: 0.2866 - val_acc: 0.8885\n",
      "Epoch 35/90\n",
      "14848/15000 [============================>.] - ETA: 0s - loss: 0.1307 - acc: 0.9645 — val_f1: 0.887088 — val_precision: 0.887146 — val_recall 0.887100\n",
      "15000/15000 [==============================] - 2s 144us/step - loss: 0.1304 - acc: 0.9646 - val_loss: 0.2883 - val_acc: 0.8871\n",
      "Epoch 36/90\n",
      "14848/15000 [============================>.] - ETA: 0s - loss: 0.1223 - acc: 0.9675 — val_f1: 0.887491 — val_precision: 0.887528 — val_recall 0.887500\n",
      "15000/15000 [==============================] - 2s 164us/step - loss: 0.1224 - acc: 0.9673 - val_loss: 0.2905 - val_acc: 0.8875\n",
      "Epoch 37/90\n",
      "14848/15000 [============================>.] - ETA: 0s - loss: 0.1185 - acc: 0.9691 — val_f1: 0.887281 — val_precision: 0.887397 — val_recall 0.887300\n",
      "15000/15000 [==============================] - 2s 157us/step - loss: 0.1185 - acc: 0.9690 - val_loss: 0.2936 - val_acc: 0.8873\n",
      "Epoch 38/90\n",
      "14848/15000 [============================>.] - ETA: 0s - loss: 0.1147 - acc: 0.9708 — val_f1: 0.886886 — val_precision: 0.886957 — val_recall 0.886900\n",
      "15000/15000 [==============================] - 2s 155us/step - loss: 0.1143 - acc: 0.9709 - val_loss: 0.2960 - val_acc: 0.8869\n",
      "Epoch 39/90\n",
      "14848/15000 [============================>.] - ETA: 0s - loss: 0.1079 - acc: 0.9727 — val_f1: 0.886787 — val_precision: 0.886852 — val_recall 0.886800\n",
      "15000/15000 [==============================] - 2s 158us/step - loss: 0.1079 - acc: 0.9728 - val_loss: 0.2990 - val_acc: 0.8868\n"
     ]
    }
   ],
   "source": [
    "from keras.callbacks import EarlyStopping\n",
    "earlystopping=keras.callbacks.EarlyStopping(monitor='val_acc', patience=8, verbose=0, mode='max')\n",
    "\n",
    "history = model.fit(partial_x_train,\n",
    "                    partial_y_train,\n",
    "                    epochs=90,\n",
    "                    batch_size=512,\n",
    "                    validation_data=(x_val, y_val),\n",
    "                    callbacks=[metrics,earlystopping],\n",
    "                    verbose=1)"
   ]
  },
  {
   "cell_type": "markdown",
   "metadata": {},
   "source": [
    "# Evaluate the model"
   ]
  },
  {
   "cell_type": "code",
   "execution_count": 19,
   "metadata": {},
   "outputs": [
    {
     "name": "stdout",
     "output_type": "stream",
     "text": [
      "25000/25000 [==============================] - 1s 39us/step\n",
      "[0.32365488556861877, 0.8758]\n"
     ]
    }
   ],
   "source": [
    "results = model.evaluate(test_data, test_labels)\n",
    "\n",
    "print(results)"
   ]
  },
  {
   "cell_type": "code",
   "execution_count": 20,
   "metadata": {},
   "outputs": [
    {
     "data": {
      "text/plain": [
       "dict_keys(['val_loss', 'val_acc', 'loss', 'acc'])"
      ]
     },
     "execution_count": 20,
     "metadata": {},
     "output_type": "execute_result"
    }
   ],
   "source": [
    "history_dict = history.history\n",
    "history_dict.keys()"
   ]
  },
  {
   "cell_type": "code",
   "execution_count": 22,
   "metadata": {},
   "outputs": [
    {
     "data": {
      "image/png": "[encoded data removed]",
      "text/plain": [
       "<matplotlib.figure.Figure at 0x29863ff6e10>"
      ]
     },
     "metadata": {},
     "output_type": "display_data"
    }
   ],
   "source": [
    "%matplotlib inline\n",
    "import matplotlib.pyplot as plt\n",
    "\n",
    "acc = history.history['acc']\n",
    "val_acc = history.history['val_acc']\n",
    "loss = history.history['loss']\n",
    "val_loss = history.history['val_loss']\n",
    "\n",
    "epochs = range(1, len(acc) + 1)\n",
    "\n",
    "# \"bo\" is for \"blue dot\"\n",
    "plt.plot(epochs, loss, 'bo', label='Training loss')\n",
    "# b is for \"solid blue line\"\n",
    "plt.plot(epochs, val_loss, 'r', label='Validation loss')\n",
    "plt.title('Training and validation loss')\n",
    "plt.xlabel('Epochs')\n",
    "plt.ylabel('Loss')\n",
    "plt.legend()\n",
    "\n",
    "plt.show()"
   ]
  },
  {
   "cell_type": "code",
   "execution_count": 23,
   "metadata": {},
   "outputs": [
    {
     "data": {
      "image/png": "[encoded data removed]",
      "text/plain": [
       "<matplotlib.figure.Figure at 0x298715b0f60>"
      ]
     },
     "metadata": {},
     "output_type": "display_data"
    }
   ],
   "source": [
    "plt.clf()   # clear figure\n",
    "acc_values = history_dict['acc']\n",
    "val_acc_values = history_dict['val_acc']\n",
    "\n",
    "plt.plot(epochs, acc, 'bo', label='Training acc')\n",
    "plt.plot(epochs, val_acc, color='red', marker='x', linestyle='dashed',\n",
    "        linewidth=0.5, markersize=5,label='Validation acc')\n",
    "plt.title('Training and validation accuracy')\n",
    "plt.xlabel('Epochs')\n",
    "plt.ylabel('Loss')\n",
    "plt.legend()\n",
    "\n",
    "plt.show()"
   ]
  },
  {
   "cell_type": "markdown",
   "metadata": {},
   "source": [
    "####   \n",
    "这不是验证损失和准确性的情况 - 它们似乎在大约十五个迭代之后达到峰值。 \n",
    "\n",
    "这是过度拟合的一个例子。 在此之后，模型过度优化并学习特定于训练数据的表示，这些表示不会推广到测试数据。\n",
    "\n",
    "对于这种特殊情况，我们可以通过在二十个左右的时期之后停止训练来防止过度拟合。"
   ]
  },
  {
   "cell_type": "code",
   "execution_count": null,
   "metadata": {},
   "outputs": [],
   "source": []
  }
 ],
 "metadata": {
  "kernelspec": {
   "display_name": "Python 3",
   "language": "python",
   "name": "python3"
  },
  "language_info": {
   "codemirror_mode": {
    "name": "ipython",
    "version": 3
   },
   "file_extension": ".py",
   "mimetype": "text/x-python",
   "name": "python",
   "nbconvert_exporter": "python",
   "pygments_lexer": "ipython3",
   "version": "3.6.4"
  }
 },
 "nbformat": 4,
 "nbformat_minor": 2
}
